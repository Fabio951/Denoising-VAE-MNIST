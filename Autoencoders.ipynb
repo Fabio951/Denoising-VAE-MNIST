{
 "cells": [
  {
   "cell_type": "markdown",
   "metadata": {},
   "source": [
    "#### Importing packages"
   ]
  },
  {
   "cell_type": "code",
   "execution_count": null,
   "metadata": {},
   "outputs": [],
   "source": [
    "%run Packages/Libraries.ipynb\n",
    "%run Packages/Functions.ipynb\n",
    "%run Packages/Networks.ipynb\n",
    "%run Packages/Optimize.ipynb"
   ]
  },
  {
   "cell_type": "markdown",
   "metadata": {},
   "source": [
    "#### Creating Datasets"
   ]
  },
  {
   "cell_type": "code",
   "execution_count": null,
   "metadata": {},
   "outputs": [],
   "source": [
    "data_root_dir = 'Dataset'\n",
    "train_dataset, test_dataset = load_datasets(data_root_dir)"
   ]
  },
  {
   "cell_type": "markdown",
   "metadata": {},
   "source": [
    "#### Creating Variational AutoEncoders"
   ]
  },
  {
   "cell_type": "code",
   "execution_count": null,
   "metadata": {},
   "outputs": [],
   "source": [
    "encoded_space_dim = 5\n",
    "lambda_ = 0.75\n",
    "net_vae = VAE(encoded_space_dim=encoded_space_dim, lambda_=lambda_)\n",
    "\n",
    "loss_fn = torch.nn.MSELoss()\n",
    "optim_vae = torch.optim.Adam(net_vae.parameters(), lr=0.001, weight_decay=1e-5)\n",
    "\n",
    "device = torch.device(\"cuda\")\n",
    "net_vae.to(device)"
   ]
  },
  {
   "cell_type": "code",
   "execution_count": null,
   "metadata": {},
   "outputs": [],
   "source": [
    "train_dataloader = DataLoader(train_dataset, batch_size=512, shuffle=True)\n",
    "test_dataloader = DataLoader(test_dataset, batch_size=512, shuffle=True)"
   ]
  },
  {
   "cell_type": "markdown",
   "metadata": {},
   "source": [
    "#### Training"
   ]
  },
  {
   "cell_type": "code",
   "execution_count": null,
   "metadata": {
    "scrolled": false
   },
   "outputs": [],
   "source": [
    "num_epochs = 50\n",
    "load_weights = False\n",
    "load_best = True\n",
    "\n",
    "val_loss_log_vae = []\n",
    "for epoch in range(num_epochs):\n",
    "    if load_weights or (load_best and epoch>0.5):\n",
    "        print('Loaded!')\n",
    "        net_vae.load_state_dict(torch.load('ckpt/net_vae_params.pth'))\n",
    "    print('EPOCH %d/%d' % (epoch + 1, num_epochs))\n",
    "    train_epoch(net_vae, dataloader=train_dataloader, loss_fn=loss_fn, optimizer=optim_vae, show_steps=20,\n",
    "                use_noise = True)\n",
    "    val_loss = test_epoch(net_vae, dataloader=test_dataloader, loss_fn=loss_fn)\n",
    "    val_loss_log_vae.append(val_loss.item())\n",
    "    print('\\n\\n\\t VALIDATION - EPOCH %d/%d - loss: %f\\n\\n' % (epoch + 1, num_epochs, val_loss))\n",
    "    \n",
    "    if (epoch<0.5 or val_loss.item()<min(val_loss_log_vae[:-1])):\n",
    "        print('Saved!')\n",
    "        torch.save(net_vae.state_dict(), 'ckpt/net_vae_params.pth')"
   ]
  }
 ],
 "metadata": {
  "kernelspec": {
   "display_name": "Python 3",
   "language": "python",
   "name": "python3"
  },
  "language_info": {
   "codemirror_mode": {
    "name": "ipython",
    "version": 3
   },
   "file_extension": ".py",
   "mimetype": "text/x-python",
   "name": "python",
   "nbconvert_exporter": "python",
   "pygments_lexer": "ipython3",
   "version": "3.7.4"
  }
 },
 "nbformat": 4,
 "nbformat_minor": 2
}
